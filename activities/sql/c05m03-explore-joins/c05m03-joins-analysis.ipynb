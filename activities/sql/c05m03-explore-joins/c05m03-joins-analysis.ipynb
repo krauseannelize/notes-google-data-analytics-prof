{
 "cells": [
  {
   "cell_type": "markdown",
   "metadata": {},
   "source": [
    "# Explore how JOINs work\n",
    "\n",
    "## Overview\n",
    "\n",
    "The purpose of this activity is to explore the main types of SQL joins and how the tables are connected based on a primary key from one table and a foreign key from the other table. **Primary keys** reference columns in which each value is unique to that table, and **foreign keys** are values in a table that match primary key values in another table thus creating a link between the two tables. The four main types of SQL joins are:\n",
    "\n",
    "| JOIN | Definition |\n",
    "| --- | --- |\n",
    "| **INNER** | A function that returns records with matching values in both tables |\n",
    "| **LEFT** | A function that returns all the records from the left table (first mentioned) and only the matching records from the right table (second mentioned) |\n",
    "| **RIGHT** | A function that returns all records from the right table (second mentioned) and only the matching records from the left table (first mentioned) |\n",
    "| **OUTER** | A function that combines the RIGHT JOIN and LEFT JOIN to return all matching records in both tables |\n",
    "\n",
    "## Dataset\n",
    "\n",
    "I receive 2 .csv files containing the data for employees and departments:\n",
    "\n",
    "- the **Employees table** can be viewed in [Google Sheets](https://drive.google.com/file/d/12BSu6-yywMPOddbe4tX3APbPxyY9_7jk/view?usp=drive_link) or the [.csv file](/activities/sql/c05m03-explore-joins/c05m03-joins-employees-data.csv), and records are saved in the format: name,department_id,role\n",
    "- the **Departments table** can be viewed in [Google Sheets](https://drive.google.com/file/d/1bGRPRjU5IE6MwSd2gCLvBgm2F8AMviiP/view?usp=drive_link) or the [.csv file](/activities/sql/c05m03-explore-joins/c05m03-joins-departments-data.csv) and records are saved in the format: name,department_id\n",
    "\n",
    "Below is a preview of both tables in .csv format:\n",
    "\n",
    "![Data in csv format](c05m03-joins-tables-data.png 'Data in csv format')\n",
    "\n",
    "## Importing the data in BigQuery\n",
    "\n",
    "The following steps are followed to import the employees and departments data to BigQuery:\n",
    "\n",
    "- **Create dataset** with **Dataset ID** `employees_data`\n",
    "- In the **Dataset info** window, select the **CREATE TABLE** button\n",
    "- In the **Source** section, select the ***Upload*** option in **Create table from**\n",
    "- Browse to the `c05m03-joins-employees-data.csv` file and open\n",
    "- Set the file format to `.csv`\n",
    "- In the **Destination** section, name the table as `employees`\n",
    "- In the **Schema** section, select **Auto detect**\n",
    "- Finally, select **Create table**\n",
    "\n",
    "A new table `employees` has been created and appear in the explorer pane under the database `employees_data`. The above steps are repeated to create a new table `departments` from the file `c05m03-joins-departments-data.csv`. A preview of the BigQuery tables are shown below:\n",
    "\n",
    "![Data in BigQuery](c05m03-joins-tables-bigquery.png 'Data in BigQuery')\n",
    "\n",
    "## Exploring: INNER JOIN\n",
    "\n",
    "In BigQuery, I execute the following query using an INNER JOIN to return records with matching values in both tables:"
   ]
  },
  {
   "cell_type": "code",
   "execution_count": null,
   "metadata": {
    "vscode": {
     "languageId": "sql"
    }
   },
   "outputs": [],
   "source": [
    "SELECT\n",
    "\temployees.name AS employee_name,\n",
    "\temployees.role AS employee_role,\n",
    "\tdepartments.name AS department_name\n",
    "FROM\n",
    "\tplucky-aegis-427011-v5.employee_data.employees AS employees\n",
    "INNER JOIN\n",
    "\tplucky-aegis-427011-v5.employee_data.departments AS departments\n",
    "\tON employees.department_id = departments.department_id;"
   ]
  },
  {
   "cell_type": "markdown",
   "metadata": {},
   "source": [
    "The output of the query provides me with the names of all employees where their department has been indicated:\n",
    "\n",
    "![Inner Join Results](c05m03-query-inner-join.png 'Inner Join Results')\n",
    "\n",
    "## Exploring: LEFT JOIN\n",
    "\n",
    "I execute the following query in BigQuery using a LEFT JOIN to return all the records from the left/first table and all matching records from the right/second table:"
   ]
  },
  {
   "cell_type": "code",
   "execution_count": null,
   "metadata": {
    "vscode": {
     "languageId": "sql"
    }
   },
   "outputs": [],
   "source": [
    "SELECT\n",
    "\temployees.name AS employee_name,\n",
    "\temployees.role AS employee_role,\n",
    "\tdepartments.name AS department_name\n",
    "FROM\n",
    "\tplucky-aegis-427011-v5.employee_data.employees AS employees \n",
    "LEFT JOIN\n",
    "\tplucky-aegis-427011-v5.employee_data.departments AS departments\n",
    "    ON employees.department_id = departments.department_id;"
   ]
  },
  {
   "cell_type": "markdown",
   "metadata": {},
   "source": [
    "The output of the query provides me with the names of all employees regardless of whether their department has been indicated:\n",
    "\n",
    "![Left Join Results](c05m03-query-left-join.png 'Left Join Results')\n",
    "\n",
    "## Exploring: RIGHT JOIN\n",
    "\n",
    "In BigQuery, I execute the following query using a RIGHT JOIN to return all the records from the right/second table and all matching records from the left/first table:"
   ]
  },
  {
   "cell_type": "code",
   "execution_count": null,
   "metadata": {
    "vscode": {
     "languageId": "sql"
    }
   },
   "outputs": [],
   "source": [
    "SELECT\n",
    "\temployees.name AS employee_name,\n",
    "\temployees.role AS employee_role,\n",
    "\tdepartments.name AS department_name\n",
    "FROM\n",
    "\tplucky-aegis-427011-v5.employee_data.employees AS employees \n",
    "RIGHT JOIN\n",
    "\tplucky-aegis-427011-v5.employee_data.departments AS departments\n",
    "    ON employees.department_id = departments.department_id;"
   ]
  },
  {
   "cell_type": "markdown",
   "metadata": {},
   "source": [
    "The output of the query provides me with the names of all the departments regardless of whether any employees have been assigned to them:\n",
    "\n",
    "![Right Join Results](c05m03-query-right-join.png 'Right Join Results')\n",
    "\n",
    "## Exploring: FULL OUTER JOIN\n",
    "\n",
    "I execute the following query in BigQuery using a FULL OUTER JOIN to return all the matching records in both tables:"
   ]
  },
  {
   "cell_type": "code",
   "execution_count": null,
   "metadata": {
    "vscode": {
     "languageId": "sql"
    }
   },
   "outputs": [],
   "source": [
    "SELECT\n",
    "\temployees.name AS employee_name,\n",
    "\temployees.role AS employee_role,\n",
    "\tdepartments.name AS department_name\n",
    "FROM\n",
    "\tplucky-aegis-427011-v5.employee_data.employees AS employees \n",
    "FULL OUTER JOIN\n",
    "\tplucky-aegis-427011-v5.employee_data.departments AS departments\n",
    "      ON employees.department_id = departments.department_id;"
   ]
  },
  {
   "cell_type": "markdown",
   "metadata": {},
   "source": [
    "The output of the query provides me with every record from the employees table and every record from the departments table regardless of whether there are matching values:\n",
    "\n",
    "![Outer Join Results](c05m03-query-outer-join.png 'Outer Join Results')"
   ]
  }
 ],
 "metadata": {
  "language_info": {
   "name": "python"
  }
 },
 "nbformat": 4,
 "nbformat_minor": 2
}
