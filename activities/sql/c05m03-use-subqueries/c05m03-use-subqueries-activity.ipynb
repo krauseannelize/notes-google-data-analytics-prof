{
 "cells": [
  {
   "cell_type": "markdown",
   "metadata": {},
   "source": [
    "# Use subqueries\n",
    "\n",
    "## Scenario\n",
    "\n",
    "I am a junior data analyst for a multinational food and beverage manufacturer. My team is responsible for maintaining the safety of a wide array of food products. Because of the overwhelming number of products on the market, I have been asked to prioritize which products need to be reviewed by your stakeholders.\n",
    "\n",
    "While it's useful to know which food industries receive the most complaints, the more critical aspect to consider is identifying the complaints that lead to severe health consequences, such as hospital visits. To this end, I will analyze food event reports for targeted health interventions.\n",
    "\n",
    "## Dataset\n",
    "\n",
    "For the analysis, I will use the BigQuery public dataset `fda_food` with the full path `bigquery-public-data.fda_food`, which contains the following tables:\n",
    "\n",
    "- food_enforcement\n",
    "- food-events\n",
    "\n",
    "## Query: Number of hospitalization in the 10 industries with the most complaints\n",
    "\n",
    "Using the `food_events` table, I execute the following query to determine the 10 industries with the most complaints and how many of these complaints led to hospitalizations:"
   ]
  },
  {
   "cell_type": "code",
   "execution_count": null,
   "metadata": {
    "vscode": {
     "languageId": "sql"
    }
   },
   "outputs": [],
   "source": [
    "SELECT\n",
    "  products_industry_name,\n",
    "  COUNT(report_number) AS count_hospitalizations\n",
    "FROM\n",
    "  bigquery-public-data.fda_food.food_events\n",
    "/* Filter to find reports that are 1 of 10 with most\n",
    "   complaints and where the outcome was hospitalization  */\n",
    "WHERE products_industry_name IN\n",
    "  (\n",
    "    -- Subquery to determine 10 industries with most complaints\n",
    "    SELECT\n",
    "      products_industry_name\n",
    "    FROM\n",
    "      bigquery-public-data.fda_food.food_events\n",
    "    GROUP BY\n",
    "      products_industry_name\n",
    "    ORDER BY\n",
    "      COUNT(report_number) DESC\n",
    "    LIMIT 10\n",
    "  )\n",
    "AND outcomes LIKE '%Hospitalization%'\n",
    "GROUP BY\n",
    "  products_industry_name\n",
    "ORDER BY\n",
    "  count_hospitalizations DESC;"
   ]
  },
  {
   "cell_type": "markdown",
   "metadata": {},
   "source": [
    "The results is a table with the 10 industries with the most complaints and their number of hospitalization sorted in descending order as shown below:\n",
    "\n",
    "![Hospitalization for industries with most complaints](c05m03-query-most-reports-hospitalizations.png 'Hospitalization for industries with most complaints')\n",
    "\n",
    "## Query: The 10 industries with the highest percentage hospitalizations\n",
    "\n",
    "As some industries may have higher overall report volumes than others, simply looking at the number of hospitalizations can be misleading. To identify the industries with the higher likelihood of hospitalizations, I execute the following query to determine the percentage of reports that had an outcome of hospitalization:"
   ]
  },
  {
   "cell_type": "code",
   "execution_count": null,
   "metadata": {
    "vscode": {
     "languageId": "sql"
    }
   },
   "outputs": [],
   "source": [
    "SELECT\n",
    "  all_reports.products_industry_name,\n",
    "  all_reports.total_reports,\n",
    "  hosp_reports.hospitalizations,\n",
    "  ROUND((hosp_reports.hospitalizations / all_reports.total_reports) * 100, 2) AS percentage_hospitalizations\n",
    "FROM\n",
    "  /* Subquery \"all_reports\" returns helper table with total reports\n",
    "     for each industry to enable efficient reuse */\n",
    "  (\n",
    "    SELECT\n",
    "      products_industry_name,\n",
    "      COUNT(report_number) AS total_reports\n",
    "    FROM\n",
    "      `bigquery-public-data.fda_food.food_events`\n",
    "    GROUP BY\n",
    "      products_industry_name\n",
    "  )\n",
    "  AS all_reports\n",
    "JOIN\n",
    "  /* Subquery \"hosp_reports\" returns helper table with number of\n",
    "     hospitalizations for each industry to enable efficient reuse */\n",
    "  (\n",
    "    SELECT\n",
    "      products_industry_name,\n",
    "      COUNT(report_number) AS hospitalizations\n",
    "    FROM\n",
    "      `bigquery-public-data.fda_food.food_events`\n",
    "    WHERE\n",
    "      outcomes LIKE '%Hospitalization%'\n",
    "    GROUP BY\n",
    "      products_industry_name\n",
    "  )\n",
    "  AS hosp_reports\n",
    "ON\n",
    "  all_reports.products_industry_name = hosp_reports.products_industry_name\n",
    "ORDER BY\n",
    "  percentage_hospitalizations DESC\n",
    "LIMIT 10;"
   ]
  },
  {
   "cell_type": "markdown",
   "metadata": {},
   "source": [
    "Although **Vit/Min/Prot/Unconv Diet(Human/Animal)** is the industry with the most reports and likely the highest number of hospitalizations overall, with a percentage hospitalizations of 26.24% it is the seventh most likely industry to result in a hospitalization. The industry with the highest likelihood of a hospitalization is **Liquid Concentrate Formula** with a percentage hospitalization of 60%.\n",
    "\n",
    "![Highest percentage of hospitalizations](c05m03-query-highest-percentage.png 'Highest percentage of hospitalizations')\n",
    "\n",
    "Very low report volume in some industries can further skew my results so it may be necessary to add more filters to this query for more accurate results."
   ]
  }
 ],
 "metadata": {
  "language_info": {
   "name": "python"
  }
 },
 "nbformat": 4,
 "nbformat_minor": 2
}
