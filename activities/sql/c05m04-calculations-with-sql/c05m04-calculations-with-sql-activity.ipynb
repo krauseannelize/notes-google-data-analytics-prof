{
 "cells": [
  {
   "cell_type": "markdown",
   "metadata": {},
   "source": [
    "# Calculations with SQL\n",
    "\n",
    "## Scenario\n",
    "\n",
    "I will analyze subway ridership data to help improve the quality of the city of New York's public transportation.\n",
    "\n",
    "## Dataset\n",
    "\n",
    "I will use the BigQuery public dataset called `new_york_subway` with the full path `bigquery-public-data.new_york_subway`. In this dataset, I will specifically use the table `subway_ridership_2013_present` for my analysis.\n",
    "\n",
    "## Query: Explore the change in weekly ridership from 2013 to 2014\n",
    "\n",
    "By subtracting the number of riders in 2013 from the number of riders in 2014, I will be able to determine whether there as an increase or a decrease in ridership for every station. I execute the following query:"
   ]
  },
  {
   "cell_type": "code",
   "execution_count": null,
   "metadata": {
    "vscode": {
     "languageId": "sql"
    }
   },
   "outputs": [],
   "source": [
    "SELECT\n",
    "    station_name,\n",
    "    ridership_2013,\n",
    "    ridership_2014,\n",
    "    -- Subtract 2013 from 2014 to determine change\n",
    "    ridership_2014 - ridership_2013 AS ridership_change\n",
    "FROM\n",
    "    bigquery-public-data.new_york_subway.subway_ridership_2013_present;"
   ]
  },
  {
   "cell_type": "markdown",
   "metadata": {},
   "source": [
    "The query produces a table showing the ridership totals for each station in 2013 and 2014, as well as a column indicating the number with which it increased or decreased. The station *Times Sq - 42 St / 42 St* had an increase of 7212 in 2014, while the station *4 Av* had 321 less riders in 2014, as shown below:\n",
    "\n",
    "![Query results for 2013 to 2014 ridership change](c05m04-query-2013-2014-change.png 'Query results for 2013 to 2014 ridership change')\n",
    "\n",
    "## Query: Average weekly ridership from 2013 to 2016\n",
    "\n",
    "To calculate the average weekly ridership for the years 2013, 2014, 2015 and 2016 using multiple arithmetic operators, I would need to add the ridership totals for the 4 years together and divide this by 4. The query I execute is as follows:"
   ]
  },
  {
   "cell_type": "code",
   "execution_count": null,
   "metadata": {
    "vscode": {
     "languageId": "sql"
    }
   },
   "outputs": [],
   "source": [
    "SELECT\n",
    "    station_name,\n",
    "    ridership_2013,\n",
    "    ridership_2014,\n",
    "    ridership_2015,\n",
    "    ridership_2016,\n",
    "    /* Combine multiple arithmetic operators to calculate\n",
    "       the average weekly ridership from 2013 to 2016 */\n",
    "    (ridership_2013 + ridership_2014 + ridership_2015 + ridership_2016) / 4 AS ridership_average\n",
    "FROM\n",
    "    bigquery-public-data.new_york_subway.subway_ridership_2013_present;"
   ]
  },
  {
   "cell_type": "markdown",
   "metadata": {},
   "source": [
    "The query output is a table showing the ridership at each station for the years 2013, 2014, 2015 and 2016. It also calculates the average ridership over the 4 years. With the trends clearly visible, I can conclude that the station *Myrtle - Wyckoff Avs* has had a steady increase in weekly ridership year-on-year from 2013 to 2016. Interestingly, from 2014 to 2016, weekly ridership at *Myrtle - Wyckoff Avs* consistently exceeded the overall average ridership observed during the 2013-2016. I include a screenshot of the query output below:\n",
    "\n",
    "![Query results average ridership from 2013 to 2016](c05m04-query-2013-2016-avg.png 'Query results average ridership from 2013 to 2016')"
   ]
  }
 ],
 "metadata": {
  "language_info": {
   "name": "python"
  }
 },
 "nbformat": 4,
 "nbformat_minor": 2
}
