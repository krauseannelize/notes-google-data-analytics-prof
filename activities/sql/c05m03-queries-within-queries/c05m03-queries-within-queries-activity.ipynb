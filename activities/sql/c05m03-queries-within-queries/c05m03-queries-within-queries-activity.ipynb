{
 "cells": [
  {
   "cell_type": "markdown",
   "metadata": {},
   "source": [
    "# Queries within queries\n",
    "\n",
    "## Overview\n",
    "\n",
    "In this activity, I explore SQL subqueries and learn how to use them to build more complex queries. Subqueries are often used in FROM and WHERE clauses. The innermost query runs first, and its results are passed to the outer query.\n",
    "\n",
    "## Dataset\n",
    "\n",
    "I will use the BigQuery public dataset called `new_york` with the full path `bigquery-public-data.new_york`. This dataset contains many tables and for this activity, I will only be using the following tables:\n",
    "\n",
    "- citibike_stations\n",
    "- citibike_trips\n",
    "\n",
    "## Exploring: Use a subquery in a SELECT statement\n",
    "\n",
    "I will compare the number of bikes available at a particular station to the overall average number of bikes available at all stations by executing the following query:"
   ]
  },
  {
   "cell_type": "code",
   "execution_count": null,
   "metadata": {
    "vscode": {
     "languageId": "sql"
    }
   },
   "outputs": [],
   "source": [
    "/* Outer query to obtain number of bikes\n",
    "   available at a particular station */\n",
    "\n",
    "SELECT\n",
    "\tstation_id,\n",
    "\tnum_bikes_available,\n",
    "\t\n",
    "\t/* Subquery (inner query) to obtain\n",
    "\t   average number of bikes available */\n",
    "\t(SELECT\n",
    "\t\tAVG(num_bikes_available)\n",
    "\tFROM bigquery-public-data.new_york.citibike_stations)\n",
    "    AS avg_num_bikes_available -- Subquery alias\n",
    "\n",
    "FROM bigquery-public-data.new_york.citibike_stations;"
   ]
  },
  {
   "cell_type": "markdown",
   "metadata": {},
   "source": [
    "The query returns a table containing the station id, the number of bikes available at each station and the overall average number of bikes available for all stations, as shown below:\n",
    "\n",
    "![Number of bikes at each station](c05m03-query-select.png 'Number of bikes at each station')\n",
    "\n",
    "## Exploring: Use a subquery in a FROM statement\n",
    "\n"
   ]
  }
 ],
 "metadata": {
  "language_info": {
   "name": "python"
  }
 },
 "nbformat": 4,
 "nbformat_minor": 2
}
