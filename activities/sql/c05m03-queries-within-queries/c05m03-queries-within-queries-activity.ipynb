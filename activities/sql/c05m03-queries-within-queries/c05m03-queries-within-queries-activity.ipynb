{
 "cells": [
  {
   "cell_type": "markdown",
   "metadata": {},
   "source": [
    "# Queries within queries\n",
    "\n",
    "## Overview\n",
    "\n",
    "In this activity, I explore SQL subqueries and learn how to use them to build more complex queries. Subqueries are often used in FROM and WHERE clauses. The innermost query runs first, and its results are passed to the outer query.\n",
    "\n",
    "## Dataset\n",
    "\n",
    "I will use the BigQuery public dataset called `new_york` with the full path `bigquery-public-data.new_york`. This dataset contains many tables and for this activity, I will only be using the following tables:\n",
    "\n",
    "- citibike_stations\n",
    "- citibike_trips\n",
    "\n",
    "## Exploring: Use a subquery in a SELECT statement\n",
    "\n",
    "Using the `citibike_stations` table, I compare the number of bikes available at a particular station to the overall average number of bikes available at all stations by executing the following query:"
   ]
  },
  {
   "cell_type": "code",
   "execution_count": null,
   "metadata": {
    "vscode": {
     "languageId": "sql"
    }
   },
   "outputs": [],
   "source": [
    "/* Outer query to obtain number of bikes\n",
    "   available at a particular station */\n",
    "SELECT\n",
    "\tstation_id,\n",
    "\tnum_bikes_available,\n",
    "\t\n",
    "\t/* Subquery (inner query) to obtain\n",
    "\t   average number of bikes available */\n",
    "\t(\n",
    "\t\tSELECT\n",
    "\t\t\tAVG(num_bikes_available)\n",
    "\t\tFROM\n",
    "\t\t\tbigquery-public-data.new_york.citibike_stations\n",
    "\t)\n",
    "\tAS avg_num_bikes_available -- Subquery alias\n",
    "\n",
    "FROM bigquery-public-data.new_york.citibike_stations;"
   ]
  },
  {
   "cell_type": "markdown",
   "metadata": {},
   "source": [
    "The query returns a table containing the station id, the number of bikes available at each station and the overall average number of bikes available for all stations, as shown below:\n",
    "\n",
    "![Number of bikes at each station](c05m03-query-select.png 'Number of bikes at each station')\n",
    "\n",
    "## Exploring: Use a subquery in a FROM statement\n",
    "\n",
    "Using both the `citibike_trips` and `citibike-stations` tables, I execute the following query to determine the total number of rides started at each station:"
   ]
  },
  {
   "cell_type": "code",
   "execution_count": null,
   "metadata": {
    "vscode": {
     "languageId": "sql"
    }
   },
   "outputs": [],
   "source": [
    "/* Outer query to obtain station id, station name from\n",
    "   citibike_stations table and number of rides started\n",
    "   at each station from citibike_trips table */\n",
    "SELECT \n",
    "\tstation_id,\n",
    "\tname,\n",
    "\tnumber_of_rides AS number_of_rides_starting_at_station\n",
    "\n",
    "FROM\n",
    "\t/* Subquery to obtain number of rides grouped by\n",
    "       start station id from citibike_trips table */\n",
    "\t(\t\n",
    "\t\tSELECT\n",
    "\t\t\t/* Type conflict:\n",
    "\t\t\t   start_station_id = integer\n",
    "\t\t\t   station_id = string */\n",
    "\t\t\tCAST(start_station_id AS STRING) AS start_station_id_str,\n",
    "\t\t\tCOUNT(*) AS number_of_rides\n",
    "\t\tFROM \n",
    "      \t\tbigquery-public-data.new_york.citibike_trips\n",
    "\t\tGROUP BY \n",
    "\t\t\tCAST(start_station_id AS STRING) -- Type conflict\n",
    "\t)\n",
    "\tAS station_num_trips -- Resulting helper table alias\n",
    "\t\n",
    "INNER JOIN \n",
    "\tbigquery-public-data.new_york.citibike_stations \n",
    "\n",
    "/* subquery converted start_station_id to STRING\n",
    "   using CAST so join key types will match */\n",
    "ON \n",
    "\tstation_id = start_station_id_str\n",
    "\n",
    "/* sorted descending so that most popular stations\n",
    "   to start rides will be at the top */\n",
    "ORDER BY \n",
    "\tnumber_of_rides DESC;"
   ]
  },
  {
   "cell_type": "markdown",
   "metadata": {},
   "source": [
    "The results are displayed in a table indicating the station id, the station name and the number of rides that started at each station. A preview of the output is shown below:\n",
    "\n",
    "![Number of rides from each station](c05m03-query-from.png 'Number of rides from each station')\n",
    "\n",
    "## Explore: Use a subquery in a WHERE statement\n",
    "\n",
    "To obtain a list of stations subscribers use as a starting point for their rides, I execute the following query using both the `citibike_trips` and `citibike-stations` tables:"
   ]
  },
  {
   "cell_type": "code",
   "execution_count": null,
   "metadata": {
    "vscode": {
     "languageId": "sql"
    }
   },
   "outputs": [],
   "source": [
    "/* Outer query to obtain station id and station name\n",
    "   used by subscribers as a starting point */\n",
    "SELECT\n",
    "\tstation_id,\n",
    "\tname\n",
    "\n",
    "FROM\n",
    "\tbigquery-public-data.new_york.citibike_stations\n",
    "\n",
    "WHERE\n",
    "\tstation_id IN\n",
    "\t/* Subquery to identify stations used as starting\n",
    "\t   point by subscribers to return a value list\n",
    "\t   to the WHERE statement in outer query */\n",
    "\t(\n",
    "\t\t\n",
    "\t\tSELECT\n",
    "\t\t    -- Type conflict\n",
    "\t\t\tCAST(start_station_id AS STRING) AS start_station_id_str\n",
    "\t\tFROM\n",
    "\t    \tbigquery-public-data.new_york.citibike_trips\n",
    "\t  \tWHERE\n",
    "\t\t\tusertype = 'Subscriber'\n",
    "  \t);"
   ]
  },
  {
   "cell_type": "markdown",
   "metadata": {},
   "source": [
    "Of the 1845 stations, the query identifies 508 stations as stations that subscribers use as their starting point and returns a list of their station ids and station names. A preview of the query result is shown below:\n",
    "\n",
    "![Stations used by subscribers](c05m03-query-where.png 'Stations used by subscribers')"
   ]
  }
 ],
 "metadata": {
  "language_info": {
   "name": "python"
  }
 },
 "nbformat": 4,
 "nbformat_minor": 2
}
