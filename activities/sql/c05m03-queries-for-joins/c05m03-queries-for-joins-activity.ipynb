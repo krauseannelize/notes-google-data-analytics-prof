{
 "cells": [
  {
   "cell_type": "markdown",
   "metadata": {},
   "source": [
    "# Queries for JOINs\n",
    "\n",
    "## Overview\n",
    "\n",
    "In this activity I practice writing queries that join multiple tables, as well as making queries more readable using aliasing. For this purpose, I will examine two tables from the World Bank’s International Education dataset in order to answer some questions.\n",
    "\n",
    "## Dataset\n",
    "\n",
    "I will use the BigQuery public dataset called `world_bank_intl_education` with the full path `bigquery-public-data.world_bank_intl_education`. To view all the tables in this public dataset in BigQuery, I use the INFORMATION_SCHEMA.TABLES view as follows:"
   ]
  },
  {
   "cell_type": "code",
   "execution_count": null,
   "metadata": {
    "vscode": {
     "languageId": "sql"
    }
   },
   "outputs": [],
   "source": [
    "SELECT *\n",
    "FROM bigquery-public-data.world_bank_intl_education.INFORMATION_SCHEMA.TABLES;"
   ]
  },
  {
   "cell_type": "markdown",
   "metadata": {},
   "source": [
    "The dataset contains the following tables:\n",
    "\n",
    "- country_series_definitions\n",
    "- country_summary\n",
    "- international_education\n",
    "- series_summary\n",
    "\n",
    "## Query: Number of people of the official age for secondary education in 2015 by region\n",
    "\n",
    "I execute the following query that will join the data from the `international_education` table to the `country_summary` table to return a list of regions with the number of people of the official age for secondary education in 2015, filtering out records:\n",
    "\n",
    "- where no region has been captured,\n",
    "- where the indicator_name is \"Population of the official age for secondary education, both sexes (number)\", and\n",
    "- where the year is 2015."
   ]
  },
  {
   "cell_type": "code",
   "execution_count": null,
   "metadata": {
    "vscode": {
     "languageId": "sql"
    }
   },
   "outputs": [],
   "source": [
    "SELECT\n",
    "    summary.region,\n",
    "    edu.year,\n",
    "    SUM(edu.value) secondary_edu_pop\n",
    "FROM\n",
    "    `bigquery-public-data.world_bank_intl_education.international_education` AS edu\n",
    "    --using edu as alias for this table\n",
    "INNER JOIN\n",
    "    `bigquery-public-data.world_bank_intl_education.country_summary` AS summary\n",
    "    --using summary as alias for this table\n",
    "ON edu.country_code = summary.country_code\n",
    "   --country_code is used as key\n",
    "    WHERE summary.region IS NOT NULL\n",
    "    AND edu.indicator_name = 'Population of the official age for secondary education, both sexes (number)'\n",
    "    AND edu.year = 2015\n",
    "GROUP BY\n",
    "  summary.region,\n",
    "  edu.year\n",
    "ORDER BY secondary_edu_pop DESC;"
   ]
  },
  {
   "cell_type": "markdown",
   "metadata": {},
   "source": [
    "The query successfully returns the 7 regions of the world with the total number of people of the official age for secondary education in the year 2015 as shown below:\n",
    "\n",
    "![Secondary education population in 2015 by region](c05m03-query-2015-edu-pop.png 'Secondary education population in 2015 by region')\n",
    "\n",
    "## Query: Difference in average percentage of male and female population per region in 2015\n",
    "\n",
    "Again joining the `international_education` and `country_summary` tables, I use a left  join to return a list of all regions whether their population has been indicated or not, for the year 2015, as follows:"
   ]
  },
  {
   "cell_type": "code",
   "execution_count": null,
   "metadata": {
    "vscode": {
     "languageId": "sql"
    }
   },
   "outputs": [],
   "source": [
    "SELECT\n",
    "  country.region,\n",
    "  edu.year,\n",
    "  --Average percentage female population\n",
    "  ROUND(AVG(\n",
    "    CASE\n",
    "      WHEN edu.indicator_name = 'Population, female (% of total)'\n",
    "      THEN edu.value\n",
    "      ELSE 0\n",
    "    END), 2) AS avg_female_pop,\n",
    "  --Average percentage male population\n",
    "  ROUND(AVG(\n",
    "    CASE\n",
    "      WHEN edu.indicator_name = 'Population, male (% of total)'\n",
    "      THEN edu.value\n",
    "      ELSE 0\n",
    "    END), 2) AS avg_male_pop,\n",
    "  --Calculate gender gap\n",
    "  ROUND(AVG(\n",
    "    CASE\n",
    "      WHEN edu.indicator_name = 'Population, male (% of total)'\n",
    "      THEN edu.value\n",
    "      ELSE 0\n",
    "    END) -\n",
    "    AVG(CASE\n",
    "      WHEN edu.indicator_name = 'Population, female (% of total)'\n",
    "      THEN edu.value\n",
    "      ELSE 0 END), 2) AS gender_gap\n",
    "FROM\n",
    "  `bigquery-public-data.world_bank_intl_education.international_education` AS edu\n",
    "LEFT JOIN\n",
    "  `bigquery-public-data.world_bank_intl_education.country_summary` AS country\n",
    "ON\n",
    "  edu.country_code = country.country_code\n",
    "WHERE\n",
    "  edu.year = 2015\n",
    "  AND edu.indicator_name IN ('Population, female (% of total)','Population, male (% of total)')\n",
    "GROUP BY\n",
    "  country.region,\n",
    "  edu.year\n",
    "HAVING\n",
    "  country.region IS NOT NULL\n",
    "--Sorting regions with more males than females first\n",
    "ORDER BY\n",
    "    gender_gap DESC;"
   ]
  },
  {
   "cell_type": "markdown",
   "metadata": {},
   "source": [
    "The results of the query provide me with a list of the 7 regions of the world with their average female and male populations, indicating the gender gap, as shown below:\n",
    "\n",
    "![Gender gap in 2015 by region](c05m03-query-2015-gender-gap.png 'Gender gap in 2015 by region')"
   ]
  }
 ],
 "metadata": {
  "language_info": {
   "name": "python"
  }
 },
 "nbformat": 4,
 "nbformat_minor": 2
}
