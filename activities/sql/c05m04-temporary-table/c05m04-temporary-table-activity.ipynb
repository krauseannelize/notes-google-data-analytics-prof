{
 "cells": [
  {
   "cell_type": "markdown",
   "metadata": {},
   "source": [
    "# Create temporary tables\n",
    "\n",
    "## Scenario\n",
    "\n",
    "A bikeshare company has reached a milestone, and their marketing team wants to write a blog post announcing the popularity of their most-used bike. They want to include the name of the station where that bike can most likely be found, so they asked me to determine which bike is used most often.\n",
    "\n",
    "For the purpose of my analysis, I will assume that most-used bike means the bike with the longest total trip duration and not the bike with the most trips.\n",
    "\n",
    "## Dataset\n",
    "\n",
    "I will use the BigQuery public dataset called `austin_bikeshare` with the full path `bigquery-public-data.austin_bikeshare`, specifically the `bikeshare_trips` table.\n",
    "\n",
    "## Create a temporary table\n",
    "\n",
    "To find the ID number of the bike with the longest total trip time in minutes, I will create a temporary table that calculates the total minutes of each trip for each bike. The temporary table is set up as follows:"
   ]
  },
  {
   "cell_type": "code",
   "execution_count": null,
   "metadata": {
    "vscode": {
     "languageId": "sql"
    }
   },
   "outputs": [],
   "source": [
    "-- Temporary table to find bike with longest total trip time\n",
    "WITH longest_used_bike AS (\n",
    "    SELECT\n",
    "      bike_id,\n",
    "      SUM(duration_minutes) AS trip_duration\n",
    "    FROM\n",
    "      bigquery-public-data.austin_bikeshare.bikeshare_trips\n",
    "    GROUP BY\n",
    "      bike_id\n",
    "    -- Sort longest to shortest trip duration\n",
    "    ORDER BY\n",
    "      trip_duration DESC\n",
    "    -- Only return longest trip\n",
    "    LIMIT 1\n",
    "  )"
   ]
  },
  {
   "cell_type": "markdown",
   "metadata": {},
   "source": [
    "## Query temporary table\n",
    "\n",
    "I cannot run the query at this point as the temporary table I have created as not been queries yet. I can now write the query that will obtain the station where this bike with the longest trip time was used most often as a starting point. To do this, I will join the temporary table to the original table and return the station where the highest number of trips started as follows:"
   ]
  },
  {
   "cell_type": "code",
   "execution_count": null,
   "metadata": {
    "vscode": {
     "languageId": "sql"
    }
   },
   "outputs": [],
   "source": [
    "-- Query to find where identified bike starts most often\n",
    "SELECT\n",
    "  trips.start_station_id,\n",
    "  trips.bike_id, \n",
    "  COUNT(*) AS trip_count\n",
    "FROM\n",
    "  -- Retrieve from temporary table\n",
    "  longest_used_bike AS longest\n",
    "INNER JOIN\n",
    "  -- Join original table\n",
    "  bigquery-public-data.austin_bikeshare.bikeshare_trips AS trips\n",
    "ON longest.bike_id = trips.bike_id\n",
    "GROUP BY\n",
    "  trips.start_station_id,\n",
    "  trips.bike_id\n",
    "ORDER BY\n",
    "  trip_count DESC\n",
    "LIMIT 1;"
   ]
  },
  {
   "cell_type": "markdown",
   "metadata": {},
   "source": [
    "When putting it all together, the output of the query is shown below. From the output, it is evident that the most-used bike is number 370 and it can most likely be found at station number 3798 having started 177 trips from this station.\n",
    "\n",
    "![Longest used bike starting from station](c05m04-query-bike-longest-used.png 'Longest used bike starting from station')"
   ]
  }
 ],
 "metadata": {
  "language_info": {
   "name": "python"
  }
 },
 "nbformat": 4,
 "nbformat_minor": 2
}
