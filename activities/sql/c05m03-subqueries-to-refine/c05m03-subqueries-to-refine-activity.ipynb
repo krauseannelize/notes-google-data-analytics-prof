{
 "cells": [
  {
   "cell_type": "markdown",
   "metadata": {},
   "source": [
    "# Use subqueries to refine data\n",
    "\n",
    "## Scenario\n",
    "\n",
    "I work for an organization that is responsible for the safety, efficiency, and maintenance of transportation systems in my city. I have been asked to gather information around the use of Citi Bikes in New York City. This information will be used to convince the mayor and other city officials to invest in a bike sharing and rental system to help push the city toward its environmental and sustainability goals.\n",
    "\n",
    "For this purpose, I will use 3 SQL queries to gather information:\n",
    "\n",
    "- about the average trip duration by station,\n",
    "- to compare trip duration by station, and\n",
    "- to determine the five stations with the longest mean trip durations.\n",
    "\n",
    "## Dataset\n",
    "\n",
    "I will obtain this information using the BigQuery public dataset `new_york_citibike` with the full path `bigquery-public-data.new_york_citibike`. This dataset has the following tables:\n",
    "\n",
    "- citibike_stations\n",
    "- citibike_trips\n",
    "\n",
    "## Query: Average trip duration by station\n",
    "\n",
    "To find the average trip duration by station, I execute the following query on the `citibike_trips` table containing a subquery in a FROM statement:"
   ]
  },
  {
   "cell_type": "code",
   "execution_count": null,
   "metadata": {
    "vscode": {
     "languageId": "sql"
    }
   },
   "outputs": [],
   "source": [
    "/* Outer query to obtain the station id and average trip\n",
    "   duration of trips started from each */\n",
    "SELECT\n",
    "    avg_trip_duration.start_station_id,\n",
    "    avg_trip_duration.avg_duration\n",
    "\n",
    "FROM\n",
    "\t-- Subquery to calculate average trip duration\n",
    "    (\n",
    "\t\tSELECT\n",
    "            start_station_id,\n",
    "            ROUND(AVG(tripduration), 2) as avg_duration\n",
    "\t    FROM\n",
    "            bigquery-public-data.new_york_citibike.citibike_trips\n",
    "        GROUP BY\n",
    "            start_station_id\n",
    "\t) AS\n",
    "    avg_trip_duration -- Subquery alias\n",
    "\n",
    "ORDER BY avg_duration DESC;"
   ]
  },
  {
   "cell_type": "markdown",
   "metadata": {},
   "source": [
    "The query returns a list of every station id with the average trip duration of trips that started from each station. Below is a preview of the output:\n",
    "\n",
    "![Average trip duration by station](c05m03-query-avg-trip-duration.png 'Average trip duration by station')\n",
    "\n",
    "## Query: Compare trip duration by station\n",
    "\n",
    "To compare the trip duration to the overall average trip duration for each station, I use the `citibike_trips` table to execute the following query that contains two subqueries in the a SELECT statement:"
   ]
  },
  {
   "cell_type": "code",
   "execution_count": null,
   "metadata": {
    "vscode": {
     "languageId": "sql"
    }
   },
   "outputs": [],
   "source": [
    "/* Outer query to obtain start time, station id, trip duration, average\n",
    "   trip duration for specific station and how much trip duration differ\n",
    "   from specific station's overall average trip duration */\n",
    "SELECT\n",
    "    -- Clean date formatting in 2 separated columns\n",
    "    CAST(starttime AS STRING FORMAT \"yyyy-mm-dd\") AS start_date,\n",
    "    CAST(starttime AS STRING FORMAT \"hh:mm:ss\") AS start_time,\n",
    "    start_station_id,\n",
    "    ROUND((tripduration/60), 2) AS trip_minutes, -- Convert seconds to minutes\n",
    "    \n",
    "    -- Subquery to calculate average trip duration for each station\n",
    "    (\n",
    "        SELECT\n",
    "            ROUND(AVG(tripduration/60),2)\n",
    "        FROM\n",
    "            bigquery-public-data.new_york_citibike.citibike_trips\n",
    "        WHERE\n",
    "            start_station_id = trips.start_station_id\n",
    "    )\n",
    "    AS avg_duration_station,\n",
    "    \n",
    "    /* Subquery to calculate difference between trip duration\n",
    "       and specific station's overall average trip duration */\n",
    "    ROUND((tripduration/60) -\n",
    "        (\n",
    "            SELECT\n",
    "                AVG(tripduration/60)\n",
    "            FROM\n",
    "                bigquery-public-data.new_york_citibike.citibike_trips\n",
    "            WHERE\n",
    "                start_station_id = trips.start_station_id),\n",
    "        2)\n",
    "        AS difference_from_avg\n",
    "\n",
    "FROM\n",
    "    bigquery-public-data.new_york_citibike.citibike_trips AS trips\n",
    "\n",
    "WHERE\n",
    "    start_station_id IS NOT NULL\n",
    "\n",
    "ORDER BY\n",
    "    difference_from_avg DESC\n",
    "\n",
    "LIMIT 25;"
   ]
  },
  {
   "cell_type": "markdown",
   "metadata": {},
   "source": [
    "Query output returns a table with the start date, start time, start station id, the trip duration, the average trip duration for the start station and finally the difference between each trip and the overall average for that station:\n",
    "\n",
    "![Compare trip duration to station average](c05m03-query-compare-station-avg.png 'Compare trip duration to station average')"
   ]
  }
 ],
 "metadata": {
  "language_info": {
   "name": "python"
  }
 },
 "nbformat": 4,
 "nbformat_minor": 2
}
