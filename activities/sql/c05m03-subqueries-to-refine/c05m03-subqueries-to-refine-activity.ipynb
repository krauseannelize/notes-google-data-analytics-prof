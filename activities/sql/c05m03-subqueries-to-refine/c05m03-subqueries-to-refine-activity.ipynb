{
 "cells": [
  {
   "cell_type": "markdown",
   "metadata": {},
   "source": [
    "# Use subqueries to refine data\n",
    "\n",
    "## Scenario\n",
    "\n",
    "I work for an organization that is responsible for the safety, efficiency, and maintenance of transportation systems in my city. I have been asked to gather information around the use of Citi Bikes in New York City. This information will be used to convince the mayor and other city officials to invest in a bike sharing and rental system to help push the city toward its environmental and sustainability goals.\n",
    "\n",
    "For this purpose, I will use 3 SQL queries to gather information:\n",
    "\n",
    "- about the average trip duration by station,\n",
    "- to compare trip duration by station, and\n",
    "- to determine the five stations with the longest mean trip durations.\n",
    "\n",
    "## Dataset\n",
    "\n",
    "I will obtain this information using the BigQuery public dataset `new_york_citibike` with the full path `bigquery-public-data.new_york_citibike`. This dataset has the following tables:\n",
    "\n",
    "- citibike_stations\n",
    "- citibike_trips\n",
    "\n",
    "## Query: Average trip duration by station\n",
    "\n",
    "To find the average trip duration by station, I execute the following query on the `citibike_trips` table containing a subquery in a FROM statement:"
   ]
  },
  {
   "cell_type": "code",
   "execution_count": null,
   "metadata": {
    "vscode": {
     "languageId": "sql"
    }
   },
   "outputs": [],
   "source": [
    "/* Outer query to obtain the station id and average trip\n",
    "   duration of trips started from each */\n",
    "SELECT\n",
    "    avg_trip_duration.start_station_id,\n",
    "    avg_trip_duration.avg_duration\n",
    "\n",
    "FROM\n",
    "\t-- Subquery to calculate average trip duration\n",
    "    (\n",
    "\t\tSELECT\n",
    "            start_station_id,\n",
    "            ROUND(AVG(tripduration), 2) as avg_duration\n",
    "\t    FROM\n",
    "            bigquery-public-data.new_york_citibike.citibike_trips\n",
    "        GROUP BY\n",
    "            start_station_id\n",
    "\t) AS\n",
    "    avg_trip_duration -- Subquery alias\n",
    "\n",
    "ORDER BY avg_duration DESC;"
   ]
  },
  {
   "cell_type": "markdown",
   "metadata": {},
   "source": [
    "The query returns a list of every station id with the average trip duration of trips that started from each station. Below is a preview of the output:\n",
    "\n",
    "![Average trip duration by station](c05m03-query-avg-trip-duration.png 'Average trip duration by station')\n",
    "\n",
    "## Query: Compare trip duration by station\n",
    "\n",
    "To compare the average trip duration per station to the overall average trip duration from all stations"
   ]
  }
 ],
 "metadata": {
  "language_info": {
   "name": "python"
  }
 },
 "nbformat": 4,
 "nbformat_minor": 2
}
