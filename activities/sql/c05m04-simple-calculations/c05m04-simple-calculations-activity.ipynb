{
 "cells": [
  {
   "cell_type": "markdown",
   "metadata": {},
   "source": [
    "# Embed simple calculations with SQL\n",
    "\n",
    "## Scenario\n",
    "\n",
    "The goal of this activity is to find the total number of bags of avocados sold on every day at each location using simple calculations with SQL.\n",
    "\n",
    "## Dataset\n",
    "\n",
    "I will be using the publicly available `Avocado Prices` dataset from [Kaggle](https://www.kaggle.com/datasets/neuromusic/avocado-prices) for this analysis. The dataset can also be viewed in [Google Sheets](https://drive.google.com/file/d/1x3M5kozxauTHfafBra3imlGJUTcOGVk7/view?usp=drive_link) or the [.csv file](/activities/sql/c05m04-simple-calculations/c05m04-avocado-data.csv).\n",
    "\n",
    "## Preparation\n",
    "\n",
    "The headings used in the .csv file contains spaces, which is not in line with SQL Best Practices and will be problematic when writing queries on the dataset. I make the necessary changes to the .csv file to update the headings accordingly:\n",
    "\n",
    "| Old Heading | Updated Heading |\n",
    "| --- | --- |\n",
    "|  | ID |\n",
    "| Date | Date |\n",
    "| AveragePrice | AveragePrice |\n",
    "| Total Volume | Total_Volume |\n",
    "| 4046 | 4046 |\n",
    "| 4225 | 4225 |\n",
    "| 4770 | 4770 |\n",
    "| Total Bags | Total_Bags |\n",
    "| Small Bags | Small_Bags |\n",
    "| Large Bags | Large_Bags |\n",
    "| XLarge Bags | XLarge_Bags |\n",
    "| type | type |\n",
    "| year | year |\n",
    "| region | region |\n",
    "\n",
    "## Importing the data in BigQuery\n",
    "\n",
    "The following steps are followed to import the avocado data to BigQuery:\n",
    "\n",
    "- **Create dataset** with **Dataset ID** `avocado_data`\n",
    "- In the **Dataset info** window, select the **CREATE TABLE** button\n",
    "- In the **Source** section, select the ***Upload*** option in **Create table from**\n",
    "- Browse to the `c05m04-avocado-data.csv` file and open\n",
    "- Set the file format to `.csv`\n",
    "- In the **Destination** section, name the table as `avocado_prices`\n",
    "- In the **Schema** section, select **Auto detect**\n",
    "- Finally, select **Create table**\n",
    "\n",
    "A new table `avocado_prices` has been created and appear in the explorer pane under the database `avocado_data`. A preview of the BigQuery table is shown below:\n",
    "\n",
    "![BigQuery table for avocado prices](c05m04-avocado-data-bigquery.png 'BigQuery table for avocado prices')\n",
    "\n",
    "## Query: Verify the total number of bags\n",
    "\n",
    "I execute the following query to verify that the total of small, large and extra-large bags is equal to the Total_Bags field in the dataset:"
   ]
  },
  {
   "cell_type": "code",
   "execution_count": null,
   "metadata": {
    "vscode": {
     "languageId": "sql"
    }
   },
   "outputs": [],
   "source": [
    "SELECT\n",
    "\tDate,\n",
    "\tRegion,\n",
    "\tSmall_Bags,\n",
    "\tLarge_Bags,\n",
    "\tXLarge_Bags,\n",
    "\tTotal_Bags,\n",
    "\t-- Calculate total bags to compare to Total_Bags field\n",
    "\tROUND(Small_Bags + Large_Bags + XLarge_Bags, 2) AS Total_Bags_Calc\n",
    " FROM\n",
    "    `plucky-aegis-427011-v5.avocado_data.avocado_prices`\n",
    " LIMIT 20;"
   ]
  },
  {
   "cell_type": "markdown",
   "metadata": {},
   "source": [
    "The results of the query added a calculated field of the total bags to compare against the Total_Bags field to verify as shown below:\n",
    "\n",
    "![Query results to verify total bags](c05m04-query-verify-total-bags.png 'Query results to verify total bags')\n",
    "\n",
    "## Query: Calculate the percentage of small bags\n",
    "\n",
    "It may be useful for decision making purposes to be able to show stakeholders what percentage of the total bags were, for example, small bags. To obtain this information, I execute the following query:"
   ]
  },
  {
   "cell_type": "code",
   "execution_count": null,
   "metadata": {
    "vscode": {
     "languageId": "sql"
    }
   },
   "outputs": [],
   "source": [
    "SELECT\n",
    "\tDate,\n",
    "\tRegion,\n",
    "\tTotal_Bags,\n",
    "\tSmall_Bags,\n",
    "\t-- Calculate percentage of total bags that are small bags\n",
    "\tROUND((Small_Bags / Total_Bags)*100, 2) AS Small_Bags_Percent\n",
    "FROM\n",
    "\t`plucky-aegis-427011-v5.avocado_data.avocado_prices`\n",
    "WHERE\n",
    "\tTotal_Bags <>0\n",
    "LIMIT 20;"
   ]
  },
  {
   "cell_type": "markdown",
   "metadata": {},
   "source": [
    "My query successfully returns a table with the calculated field Small_Bags_Percent as shown below:\n",
    "\n",
    "![Query results of percentage small bags](c05m04-query-small-bags-perc.png 'Query results of percentage small bags')"
   ]
  }
 ],
 "metadata": {
  "language_info": {
   "name": "python"
  }
 },
 "nbformat": 4,
 "nbformat_minor": 2
}
